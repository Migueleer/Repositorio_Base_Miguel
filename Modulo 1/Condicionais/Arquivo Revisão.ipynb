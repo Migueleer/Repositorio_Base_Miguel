{
 "cells": [
  {
   "cell_type": "markdown",
   "id": "2a644e4e",
   "metadata": {},
   "source": [
    "### Idade"
   ]
  },
  {
   "cell_type": "code",
   "execution_count": 18,
   "id": "fb8dcb86",
   "metadata": {},
   "outputs": [
    {
     "name": "stdout",
     "output_type": "stream",
     "text": [
      "Adulto\n"
     ]
    }
   ],
   "source": [
    "idade = int(input(\"Qual sua idade?\"))\n",
    "\n",
    "if idade == 18:\n",
    "    print(\"Maior de idade\")\n",
    "\n",
    "elif idade > 18 and idade <= 60:\n",
    "    print(\"Adulto\")\n",
    "\n",
    "elif idade > 60:\n",
    "    print(\"Idoso\")\n",
    "\n",
    "else:\n",
    "    print(\"Menor de idade\")\n",
    "\n"
   ]
  },
  {
   "cell_type": "markdown",
   "id": "d68856ca",
   "metadata": {},
   "source": [
    "### Calcular Média"
   ]
  },
  {
   "cell_type": "code",
   "execution_count": null,
   "id": "4c03c308",
   "metadata": {},
   "outputs": [
    {
     "name": "stdout",
     "output_type": "stream",
     "text": [
      "10.0\n",
      "Aprovado\n"
     ]
    }
   ],
   "source": [
    "nota_1 = float(input(\"Digite sua nota\"))\n",
    "nota_2 = float(input(\"Digite sua nota\"))\n",
    "nota_3 = float(input(\"Digite sua nota\"))\n",
    "\n",
    "media = (nota_1 + nota_2 + nota_3)/3\n",
    "print(media)\n",
    "\n",
    "if media >= 6:\n",
    "    print(\"Aprovado\")\n",
    "\n",
    "elif media >= 4 and media < 6:\n",
    "    print(\"Recuperação\")\n",
    "\n",
    "else:\n",
    "    print(\"Reprovado\")\n"
   ]
  },
  {
   "cell_type": "markdown",
   "id": "bb76796d",
   "metadata": {},
   "source": [
    "### Calculadora"
   ]
  },
  {
   "cell_type": "code",
   "execution_count": 28,
   "id": "27968a0c",
   "metadata": {},
   "outputs": [
    {
     "name": "stdout",
     "output_type": "stream",
     "text": [
      "o resultado de 50 * 15 = 750\n"
     ]
    }
   ],
   "source": [
    "numero_1 = int (input(\"me fale um numero:\"))\n",
    "numero_2 = int (input(\"me fale um numero:\"))\n",
    "operacao = input(\"digite um tipo de conta que voce quer fazer:\")\n",
    "\n",
    "if operacao == \"somar\" or operacao == \"+\":\n",
    "    soma = numero_1 + numero_2\n",
    "    print (f\"o resultado de {numero_1} + {numero_2} = {soma}\")\n",
    "    \n",
    "elif operacao == \"subtrair\" or operacao == \"-\":\n",
    "    soma = numero_1 - numero_2\n",
    "    print(f\"o resultado de {numero_1} - {numero_2} = {soma}\")\n",
    "    \n",
    "elif operacao == \"multiplicar\" or operacao == \"*\":\n",
    "    soma = numero_1 * numero_2\n",
    "    print(f\"o resultado de {numero_1} * {numero_2} = {soma}\")\n",
    "    \n",
    "elif operacao == \"dividir\" or operacao == \"/\":\n",
    "    soma = numero_1 / numero_2\n",
    "    print(f\"o resultado de {numero_1} / {numero_2} = {soma}\")\n",
    "    \n",
    "else:\n",
    "    print(\"operação invalida\")"
   ]
  }
 ],
 "metadata": {
  "kernelspec": {
   "display_name": "Python 3",
   "language": "python",
   "name": "python3"
  },
  "language_info": {
   "codemirror_mode": {
    "name": "ipython",
    "version": 3
   },
   "file_extension": ".py",
   "mimetype": "text/x-python",
   "name": "python",
   "nbconvert_exporter": "python",
   "pygments_lexer": "ipython3",
   "version": "3.13.2"
  }
 },
 "nbformat": 4,
 "nbformat_minor": 5
}
