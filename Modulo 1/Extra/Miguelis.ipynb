{
 "cells": [
  {
   "cell_type": "code",
   "execution_count": 10,
   "metadata": {},
   "outputs": [
    {
     "name": "stdout",
     "output_type": "stream",
     "text": [
      "7.566666666666667\n"
     ]
    }
   ],
   "source": [
    "nota1 = float(7.5)\n",
    "nota2 = float(5.8)\n",
    "nota3 = float(9.4)\n",
    "media= (nota1+nota2+nota3)/3\n",
    "print(media)"
   ]
  },
  {
   "cell_type": "code",
   "execution_count": 16,
   "metadata": {},
   "outputs": [
    {
     "name": "stdout",
     "output_type": "stream",
     "text": [
      "A Sua Media é : 9.0\n"
     ]
    }
   ],
   "source": [
    "nota1 = float(input(\"digite a sua nota\"))\n",
    "nota2 = float(input(\"digite a sua segunda nota\"))\n",
    "nota3 = float(input(\"digite a sua terceira  nota\"))\n",
    "media= (nota1+nota2+nota3)/3\n",
    "print(f\"A Sua Media é : {media}\")"
   ]
  },
  {
   "cell_type": "code",
   "execution_count": 1,
   "metadata": {},
   "outputs": [
    {
     "name": "stdout",
     "output_type": "stream",
     "text": [
      "O seu carro dos sonhos é : swsws\n"
     ]
    }
   ],
   "source": [
    "nome_carro = (input(\"Informe o nome do seu carro dos sonhos:!!!!\"))\n",
    "print(f\"O seu carro dos sonhos é : {nome_carro}\")\n",
    "# faça a mesma coisa para o preço\n",
    "# faça o mesmo para o ano"
   ]
  },
  {
   "cell_type": "code",
   "execution_count": 12,
   "metadata": {},
   "outputs": [
    {
     "name": "stdout",
     "output_type": "stream",
     "text": [
      "7.0\n"
     ]
    }
   ],
   "source": [
    "numero = float(input(\"Informe um numero!!!\"))\n",
    "print (numero)"
   ]
  },
  {
   "cell_type": "code",
   "execution_count": 2,
   "metadata": {},
   "outputs": [
    {
     "name": "stdout",
     "output_type": "stream",
     "text": [
      "Seu nome é:Miguel\n",
      "A sua idade é:18\n"
     ]
    }
   ],
   "source": [
    "nome =  input(\"Qual seu nome?:\")\n",
    "print(f\"Seu nome é:{nome}\")\n",
    "idade =  input(\"Qual sua idade?:\")\n",
    "print(f\"A sua idade é:{idade}\")"
   ]
  },
  {
   "cell_type": "code",
   "execution_count": 19,
   "metadata": {},
   "outputs": [
    {
     "name": "stdout",
     "output_type": "stream",
     "text": [
      "O ano que estamos é:2025\n",
      "O ano que nasci é:2007\n",
      "18\n"
     ]
    }
   ],
   "source": [
    "ano_atual = int(input (\"qual ano estamos?:\"))\n",
    "print(f\"O ano que estamos é:{ano_atual}\")\n",
    "ano_nascimento = int (input (\"Qual ano você nasceu?:\"))\n",
    "print(f\"O ano que nasci é:{ano_nascimento}\")\n",
    "idade = ano_atual - ano_nascimento\n",
    "print(idade)"
   ]
  },
  {
   "cell_type": "markdown",
   "metadata": {},
   "source": [
    "### calcular média "
   ]
  },
  {
   "cell_type": "code",
   "execution_count": 16,
   "metadata": {},
   "outputs": [
    {
     "name": "stdout",
     "output_type": "stream",
     "text": [
      "7.0\n",
      "8.0\n",
      "4.0\n",
      "5.0\n",
      "8.0\n",
      "9.0\n",
      "6.0\n",
      "5.0\n",
      "4.0\n",
      "7.0\n",
      "8.0\n",
      "8.0\n",
      "7.0\n",
      "7.0\n",
      "A sua média é:6.642857142857143\n"
     ]
    }
   ],
   "source": [
    "numero_1 = float (input(\"irforme um número:\"))\n",
    "print (numero_1)\n",
    "numero_2 = float (input(\"informe outro número:\"))\n",
    "print (numero_2)\n",
    "numero_3 = float (input(\"informe outro numero:\"))\n",
    "print (numero_3)\n",
    "numero_4 = float (input(\"irforme um número:\"))\n",
    "print (numero_4)\n",
    "numero_5 = float (input(\"informe outro número:\"))\n",
    "print (numero_5)\n",
    "numero_6 = float (input(\"informe outro numero:\"))\n",
    "print (numero_6)\n",
    "numero_7 = float (input(\"irforme um número:\"))\n",
    "print (numero_7)\n",
    "numero_8 = float (input(\"informe outro número:\"))\n",
    "print (numero_8)\n",
    "numero_9 = float (input(\"informe outro numero:\"))\n",
    "print (numero_9)\n",
    "numero_10 = float (input(\"irforme um número:\"))\n",
    "print (numero_10)\n",
    "numero_11 = float (input(\"informe outro número:\"))\n",
    "print (numero_11)\n",
    "numero_12 = float (input(\"informe outro numero:\"))\n",
    "print (numero_12)\n",
    "numero_13= float (input(\"irforme um número:\"))\n",
    "print (numero_13)\n",
    "numero_14= float (input(\"informe outro número:\"))\n",
    "print (numero_14)\n",
    "media = (numero_1+numero_2+numero_3+numero_4+numero_5+numero_6+numero_7+numero_8+numero_9+numero_10+numero_11+numero_12+numero_13+numero_14)/14\n",
    "print (f\"A sua média é:{media}\")\n"
   ]
  },
  {
   "cell_type": "markdown",
   "metadata": {},
   "source": [
    "### Quero te conhecer melhor!"
   ]
  },
  {
   "cell_type": "code",
   "execution_count": null,
   "metadata": {},
   "outputs": [
    {
     "name": "stdout",
     "output_type": "stream",
     "text": [
      "Adorei te conhecer, seu nome é:Miguel\n",
      "Adorei te conhecer, sua musica fovorita é:Zorro do asfalto \n",
      "Adorei te conhecer, seu hobby é:Jogar video game\n"
     ]
    }
   ],
   "source": [
    "nome = input(\"Qual seu nome?:\")\n",
    "print(f\"Adorei te conhecer, seu nome é:{nome}\")\n",
    "musica = input(\"Qual sua musica favorita?:\")\n",
    "print(f\"Adorei te conhecer, sua musica fovorita é:{musica}\")\n",
    "hobby = input(\"Qual seu hobby?:\")\n",
    "print (f\"Adorei te conhecer, seu hobby é:{hobby}\") "
   ]
  },
  {
   "cell_type": "markdown",
   "metadata": {},
   "source": [
    "### If e Else"
   ]
  },
  {
   "cell_type": "code",
   "execution_count": 6,
   "metadata": {},
   "outputs": [
    {
     "name": "stdout",
     "output_type": "stream",
     "text": [
      "Você foi aprovado!\n"
     ]
    }
   ],
   "source": [
    "media = float (input(\"Digite sua media:\"))\n",
    "\n",
    "if media >=5:\n",
    "    print(\"Você foi aprovado!\")\n",
    "else:\n",
    "    print(\"Você foi reprovado!\")    "
   ]
  },
  {
   "cell_type": "markdown",
   "metadata": {},
   "source": [
    "### Calcular a média "
   ]
  },
  {
   "cell_type": "code",
   "execution_count": 11,
   "metadata": {},
   "outputs": [
    {
     "name": "stdout",
     "output_type": "stream",
     "text": [
      "A sua media é:8.0\n",
      "Você foi aprovado!\n"
     ]
    }
   ],
   "source": [
    "nota1 = float(input(\"digite sua nota:\"))\n",
    "nota2 = float(input(\"digite sua nota:\"))\n",
    "nota3 = float(input(\"digite sua nota:\"))\n",
    "media = (nota1+nota2+nota3)/3\n",
    "print(f\"A sua media é:{media}\")\n",
    "\n",
    "if media >=5:\n",
    "    print(\"Você foi aprovado!\")\n",
    "else:\n",
    "    print(\"Você foi reprovado!\")\n",
    "\n",
    "\n"
   ]
  },
  {
   "cell_type": "markdown",
   "metadata": {},
   "source": [
    "### Contatinho"
   ]
  },
  {
   "cell_type": "code",
   "execution_count": 22,
   "metadata": {},
   "outputs": [
    {
     "name": "stdout",
     "output_type": "stream",
     "text": [
      "Brota na base hahaha:\n"
     ]
    }
   ],
   "source": [
    "nome_contato = input(\"Fala seu nome:\")\n",
    "numero_telefone = input(\"Passa o zap:\")\n",
    "crush = \"Cristiano Ronaldo\"\n",
    "\n",
    "if nome_contato == crush:\n",
    "    print(\"Brota na base hahaha:\")\n",
    "else:\n",
    "    print(\"Vai se lascar!:\")\n",
    "\n",
    "\n"
   ]
  },
  {
   "cell_type": "markdown",
   "metadata": {},
   "source": [
    "### Música Favorita"
   ]
  },
  {
   "cell_type": "code",
   "execution_count": 14,
   "metadata": {},
   "outputs": [
    {
     "name": "stdout",
     "output_type": "stream",
     "text": [
      "Essa é boa!:\n"
     ]
    }
   ],
   "source": [
    "musica_favorita = input(\"Qual sua música favorita?:\")\n",
    "minha_musica = \"Dubai\"\n",
    "\n",
    "if musica_favorita == minha_musica:\n",
    "    print(\"Essa é boa!:\")\n",
    "else:\n",
    "    print(\"Eca, que música ruim!:\")"
   ]
  },
  {
   "cell_type": "markdown",
   "metadata": {},
   "source": [
    "### CNH"
   ]
  },
  {
   "cell_type": "code",
   "execution_count": null,
   "metadata": {},
   "outputs": [
    {
     "name": "stdout",
     "output_type": "stream",
     "text": [
      "Você pode dirigir!:\n"
     ]
    }
   ],
   "source": [
    "idade = int (input(\"Qual sua idade?:\"))\n",
    "idade_minima = 18\n",
    "\n",
    "resultado_cnh = input(\"Você foi aprovado ou reprovado?:\").lower()\n",
    "resultado_esperado = \"aprovado\"\n",
    "\n",
    "\n",
    "if idade >= idade_minima and resultado_cnh == resultado_esperado:\n",
    "    print (\"Você pode dirigir!:\")\n",
    "else:\n",
    "    print (\"Continue andando a pé!:\")\n",
    "       \n",
    "\n",
    "\n"
   ]
  },
  {
   "cell_type": "markdown",
   "metadata": {},
   "source": [
    "### Fabrica de Programadores"
   ]
  },
  {
   "cell_type": "code",
   "execution_count": 16,
   "metadata": {},
   "outputs": [
    {
     "name": "stdout",
     "output_type": "stream",
     "text": [
      "Você pode fazer o curso de programação:\n"
     ]
    }
   ],
   "source": [
    "serie = int(input(\"Qual ano você esta na escola?:\"))\n",
    "serie_esperada = 3\n",
    "\n",
    "escola = input(\"Você estuda em um colégio municipal de Santana de Parnaiba?:\").lower()\n",
    "resposta_esperada = \"sim\"\n",
    "\n",
    "if serie == serie_esperada and escola == resposta_esperada:\n",
    "    print(\"Você pode fazer o curso de programação:\")\n",
    "else:\n",
    "    print(\"Você não pode fazer o curso:\")"
   ]
  },
  {
   "cell_type": "markdown",
   "metadata": {},
   "source": [
    "### Melhor Musica do Mundo"
   ]
  },
  {
   "cell_type": "code",
   "execution_count": 20,
   "metadata": {},
   "outputs": [
    {
     "name": "stdout",
     "output_type": "stream",
     "text": [
      "Essa é a pura!:\n"
     ]
    }
   ],
   "source": [
    "música = input(\"Qual sua musica favorita?:\").lower()\n",
    "melhor_música = \"detalhes\"\n",
    "\n",
    "cantor = input(\"Qual seu cantor favorito?:\").lower()\n",
    "melhor_cantor = \"hungria hip hop\"\n",
    "\n",
    "if música == melhor_música and cantor == melhor_cantor:\n",
    "    print(\"Essa é a pura!:\")\n",
    "else:\n",
    "    print(\"Que mal gosto em!:\")"
   ]
  },
  {
   "cell_type": "markdown",
   "metadata": {},
   "source": [
    "### Meu Emprego dos Sonhos"
   ]
  },
  {
   "cell_type": "code",
   "execution_count": 8,
   "metadata": {},
   "outputs": [
    {
     "name": "stdout",
     "output_type": "stream",
     "text": [
      "Seu emprego dos sonhos é:t.i\n",
      "Seu salario dos sonhos é:10000.0\n",
      "O dinheiro que sobrou no mês foi:5065.46\n",
      "O dinheiro que gastei no mês foi:4934.54\n"
     ]
    }
   ],
   "source": [
    "emprego = input(\"Qual seu emprego dos sonhos?:\")\n",
    "print(f\"Seu emprego dos sonhos é:{emprego}\")\n",
    "salario = float(input(\"Qual seu salario dos sonhos?:\"))\n",
    "print(f\"Seu salario dos sonhos é:{salario}\")\n",
    "\n",
    "conta_de_luz = float (300)\n",
    "conta_de_água = float (100)\n",
    "internet = float (200)\n",
    "inss = float (951.64)\n",
    "ipva = float (678)\n",
    "iptu = float (1000)\n",
    "gás = float (110)\n",
    "compra_do_mes = float (750)\n",
    "netflix = float (44.90)\n",
    "vale_transporte = float (150)\n",
    "vale_refeição = float (650)\n",
    "\n",
    "despesas = (conta_de_luz+conta_de_água+internet+inss+ipva+iptu+gás+compra_do_mes+netflix+vale_transporte+vale_refeição)\n",
    "\n",
    "total = (salario-despesas)\n",
    "print(f\"O dinheiro que sobrou no mês foi:{total}\")\n",
    "print(f\"O dinheiro que gastei no mês foi:{despesas}\")"
   ]
  },
  {
   "cell_type": "markdown",
   "metadata": {},
   "source": [
    "### Contatinho 2"
   ]
  },
  {
   "cell_type": "code",
   "execution_count": 8,
   "metadata": {},
   "outputs": [
    {
     "name": "stdout",
     "output_type": "stream",
     "text": [
      "Brota na base hahaha:\n"
     ]
    }
   ],
   "source": [
    "nome_contatinho = input (\"Fale o nome\")\n",
    "\n",
    "crush = \"cristiano ronaldo\"\n",
    "amante = \"cr7\"\n",
    "\n",
    "if nome_contatinho== amante:\n",
    "    print(\"Brota na base hahaha:\")\n",
    "elif nome_contatinho == amante:\n",
    "    print (\"infiel safado:\")\n",
    "elif nome_contatinho == crush:\n",
    "    print(\"sai fora:\")\n",
    "else:\n",
    "    print(\"Vai se lascar!:\")\n"
   ]
  },
  {
   "cell_type": "markdown",
   "metadata": {},
   "source": [
    "### Medidor de Temperatura"
   ]
  },
  {
   "cell_type": "code",
   "execution_count": 23,
   "metadata": {},
   "outputs": [
    {
     "name": "stdout",
     "output_type": "stream",
     "text": [
      "muito frio\n"
     ]
    }
   ],
   "source": [
    "temperatura = int (input(\"informe uma temperatura\"))\n",
    "maxima = 32\n",
    "minima = 22\n",
    "\n",
    "if temperatura >=32: \n",
    "    print(\"calor de matar:\")\n",
    "elif temperatura >=22 and temperatura <=32: \n",
    "    print(\"muito calor:\")\n",
    "elif temperatura == 0:\n",
    "    print(\"frio de congelar:\")\n",
    "else:\n",
    "    print(\"muito frio\")"
   ]
  },
  {
   "cell_type": "markdown",
   "metadata": {},
   "source": [
    "### Controle de Estoque"
   ]
  },
  {
   "cell_type": "code",
   "execution_count": 36,
   "metadata": {},
   "outputs": [
    {
     "name": "stdout",
     "output_type": "stream",
     "text": [
      "MACONHA em excesso!Não precisa comprar mais agora!:\n"
     ]
    }
   ],
   "source": [
    "produto = input(\"Qual o nome do produto?:\")\n",
    "quantidade = int  (input(\"Qual a quantidade do produto?:\"))\n",
    "\n",
    "if quantidade == 0:\n",
    "    print(f\"{produto} está em falta!, compre mais!:\")\n",
    "elif quantidade <=10:\n",
    "    print(f\"{produto} está quase acabando!Repor estoque!:\")\n",
    "elif quantidade >=30:\n",
    "    print(f\"{produto} em excesso!Não precisa comprar mais agora!:\")\n",
    "else:\n",
    "    print(f\"Estoque de {produto} dentro do normal!:\")"
   ]
  },
  {
   "cell_type": "markdown",
   "metadata": {},
   "source": [
    "### Calculadora Basica"
   ]
  },
  {
   "cell_type": "code",
   "execution_count": 11,
   "metadata": {},
   "outputs": [
    {
     "name": "stdout",
     "output_type": "stream",
     "text": [
      "o resultado de 50 * 25 = 1250\n"
     ]
    }
   ],
   "source": [
    "numero_1 = int (input(\"me fale um numero:\"))\n",
    "numero_2 = int (input(\"me fale um numero:\"))\n",
    "operacao = input(\"digite um tipo de conta que voce quer fazer:\")\n",
    "\n",
    "if operacao == \"somar\" or operacao == \"+\":\n",
    "    soma = numero_1 + numero_2\n",
    "    print (f\"o resultado de {numero_1} + {numero_2} = {soma}\")\n",
    "    \n",
    "elif operacao == \"subtrair\" or operacao == \"-\":\n",
    "    soma = numero_1 - numero_2\n",
    "    print(f\"o resultado de {numero_1} - {numero_2} = {soma}\")\n",
    "    \n",
    "elif operacao == \"multiplicar\" or operacao == \"*\":\n",
    "    soma = numero_1 * numero_2\n",
    "    print(f\"o resultado de {numero_1} * {numero_2} = {soma}\")\n",
    "    \n",
    "elif operacao == \"dividir\" or operacao == \"/\":\n",
    "    soma = numero_1 / numero_2\n",
    "    print(f\"o resultado de {numero_1} / {numero_2} = {soma}\")\n",
    "    \n",
    "else:\n",
    "    print(\"operação invalida\")"
   ]
  },
  {
   "cell_type": "markdown",
   "metadata": {},
   "source": [
    "### Recomendação de Filme"
   ]
  },
  {
   "cell_type": "code",
   "execution_count": 27,
   "metadata": {},
   "outputs": [
    {
     "name": "stdout",
     "output_type": "stream",
     "text": [
      "O filme ideal é Invocação do Mal\n"
     ]
    }
   ],
   "source": [
    "genero_filme = input(\"Qual o gênero de filme você prefere? (Ação, Comédia ou Terror)\").lower()\n",
    "humor = input(\"Como está seu humor hoje ? (Feliz, Neutro ou Estressado)\").lower()\n",
    "\n",
    "if genero_filme == \"terror\" and humor == \"feliz\":\n",
    "    print(\"O filme ideal é A Noite do Terror\")\n",
    "\n",
    "elif genero_filme == \"terror\" and humor == \"neutro\":\n",
    "    print(\"O filme ideal é Invocação do Mal\")\n",
    "\n",
    "elif genero_filme == \"terror\" and  humor == \"estressado\":\n",
    "    print(\"O filme ideal é O Iluminado\")\n",
    "\n",
    "elif genero_filme == \"comedia\" and humor == \"feliz\":\n",
    "    print(\"O filme ideal é Superbad\")\n",
    "\n",
    "elif genero_filme == \"comedia\" and humor == \"neutro\":\n",
    "    print (\"O filme ideal é Escola de Rock\")\n",
    "\n",
    "elif genero_filme == \"comedia\" and humor == \"estressado\":\n",
    "    print(\"O filme ideal é Se Beber, Não Case \")\n",
    "\n",
    "elif genero_filme == \"acao\" and humor == \"feliz\":\n",
    "    print(\"O filme ideal é Homem Aranha\")\n",
    "\n",
    "elif genero_filme == \"acao\" and humor == \"neutro\":\n",
    "    print(\"O filme ideal é John Wick\")\n",
    "\n",
    "elif genero_filme == \"acao\" and humor == \"estressado\":\n",
    "    print(\"O filme ideal é Duro de Matar\")\n",
    "\n",
    "else:\n",
    "    print(\"Opção invalida, tente novamente\")"
   ]
  },
  {
   "cell_type": "markdown",
   "metadata": {},
   "source": [
    "### Recomendação de Jogo"
   ]
  },
  {
   "cell_type": "code",
   "execution_count": 17,
   "metadata": {},
   "outputs": [
    {
     "name": "stdout",
     "output_type": "stream",
     "text": [
      "O jogo ideal é GTA V\n"
     ]
    }
   ],
   "source": [
    "genero_jogo = input(\"Qual genero de jogo você prefere (fps, mundo aberto, esportes ou battle royale)\").lower()\n",
    "tempo = input(\"Quanto tempo você tem para jogar(curto, médio ou longo)\").lower()\n",
    "\n",
    "if genero_jogo == \"fps\" and tempo == \"curto\":\n",
    "    print(\"O jogo ideal é Valorant\")\n",
    "\n",
    "elif genero_jogo == \"fps\" and tempo == \"médio\":\n",
    "    print(\"O jogo ideal é Cod Warzone\")\n",
    "\n",
    "elif genero_jogo == \"fps\" and tempo == \"longo\":\n",
    "    print(\"O jogo ideal é Counter Striker 2\")\n",
    "\n",
    "elif genero_jogo == \"mundo aberto\" and tempo == \"curto\":\n",
    "    print(\"O jogo ideal é Far Cry 4\")\n",
    "\n",
    "elif genero_jogo == \"mundo aberto\" and tempo == \"médio\":\n",
    "    print(\"O jogo ideal é Shadow of the Colossus\")\n",
    "\n",
    "elif genero_jogo == \"mundo aberto\" and tempo == \"longo\":\n",
    "    print(\"O jogo ideal é GTA V\")\n",
    "\n",
    "elif genero_jogo == \"esportes\" and tempo == \"curto\":\n",
    "    print(\"O jogo ideal é Fifa Street\")\n",
    "\n",
    "elif genero_jogo == \"esportes\" and tempo == \"médio\":\n",
    "    print(\"O jogo ideal é Fifa 24\")\n",
    "\n",
    "elif genero_jogo == \"esportes\" and tempo == \"longo\":\n",
    "    print(\"O jogo ideal é NBA 2K24\")\n",
    "\n",
    "elif genero_jogo == \"battle royale\" and tempo == \"curto\":\n",
    "    print(\"O jogo ideal é Fortnite\")\n",
    "\n",
    "elif genero_jogo == \"battle royale\" and tempo == \"médio\":\n",
    "    print(\"O jogo ideal é Apex Legends\")\n",
    "\n",
    "elif genero_jogo == \"battle royale\" and tempo == \"longo\":\n",
    "    print(\"O jogo ideal é PUBG:Battlegrounds\")\n",
    "\n",
    "else:\n",
    "    print(\"Não existe este jogo na tabela!\")"
   ]
  },
  {
   "cell_type": "markdown",
   "metadata": {},
   "source": [
    "### Avaliação de Times"
   ]
  },
  {
   "cell_type": "code",
   "execution_count": null,
   "metadata": {},
   "outputs": [
    {
     "name": "stdout",
     "output_type": "stream",
     "text": [
      "O jogador ideal é Ronaldinho Gaucho\n"
     ]
    }
   ],
   "source": [
    "nacionalidade = input(\"Qual a nacionalidade do jogador?( Portugues, Argentino, Brasil , Frances)\").lower()\n",
    "nome_time = input(\"Qual seu time favorito?(Real Madrid, São Paulo, Real Betis, Psg)\").lower()\n",
    "\n",
    "if nome_time == \"real madrid\" and nacionalidade == \"portugues\":\n",
    "    print(\"O jogador ideal é Cristiano Ronaldo\")\n",
    "\n",
    "elif nome_time == \"real madrid\" and nacionalidade == \"argentino\":\n",
    "    print(\"O jogador ideal é Di Maria\")\n",
    "\n",
    "elif nome_time == \"real madrid\" and nacionalidade == \"brasil\":\n",
    "    print(\"O jogador ideal é Rodrygo\")\n",
    "\n",
    "elif nome_time == \"real madrid\" and nacionalidade == \"frances\":\n",
    "    print(\"O jogador ideal é Mbappe\")\n",
    "\n",
    "elif nome_time == \"são paulo\" and nacionalidade == \"portugues\":\n",
    "    print(\"O jogador ideal é Cedric\")\n",
    "\n",
    "elif  nome_time == \"são paulo\" and nacionalidade == \"argentino\":\n",
    "    print(\"O jogador ideal é Alan Franco\")\n",
    "\n",
    "elif  nome_time == \"são paulo\" and nacionalidade == \"brasil\":\n",
    "    print(\"O jogador ideal é Luciano\")\n",
    "\n",
    "elif  nome_time == \"são paulo\" and nacionalidade == \"frances\":\n",
    "    print(\"O jogador ideal é Picon\")\n",
    "\n",
    "elif nome_time == \"real betis\" and nacionalidade == \"portugues\":\n",
    "    print(\"O jogador ideal é Willian Carvalho\")\n",
    "\n",
    "elif nome_time == \"real betis\" and nacionalidade == \"argentino\":\n",
    "    print(\"O jogador ideal é Lo Celso\")\n",
    "\n",
    "elif nome_time == \"real betis\" and nacionalidade == \"brasil\":\n",
    "    print(\"O jogador ideal é Antony GOAT\")\n",
    "\n",
    "elif nome_time == \"real betis\" and nacionalidade == \"frances\":\n",
    "    print(\"O jogador ideal é Fekir\")\n",
    "\n",
    "elif nome_time == \"psg\" and nacionalidade == \"portugues\":\n",
    "    print(\"O jogador ideal é Gonçalo Ramos\") \n",
    "\n",
    "elif  nome_time == \"psg\" and nacionalidade == \"argentino\":\n",
    "    print(\"O jogador ideal é Leandro Paredes\")\n",
    "\n",
    "elif  nome_time == \"psg\" and nacionalidade == \"brasil\":\n",
    "    print(\"O jogador ideal é Ronaldinho Gaucho\")\n",
    "\n",
    "elif  nome_time == \"psg\" and nacionalidade == \"frances\":\n",
    "    print(\"O jogador ideal é Dembele \")\n",
    "\n",
    "else:\n",
    "    print(\"Não existe esse jogador no time\")"
   ]
  },
  {
   "cell_type": "markdown",
   "metadata": {},
   "source": [
    "### Tratamento de Strings"
   ]
  },
  {
   "cell_type": "code",
   "execution_count": 24,
   "metadata": {},
   "outputs": [
    {
     "name": "stdout",
     "output_type": "stream",
     "text": [
      "Miguel Oliveira\n",
      "15\n"
     ]
    }
   ],
   "source": [
    "nome = \"Miguel\" \n",
    "sobrenome = \"Oliveira\" \n",
    "nome_completo = nome + \" \" + sobrenome \n",
    "print(nome_completo)\n",
    "\n",
    "tamanho = len(nome_completo)\n",
    "print(tamanho)"
   ]
  },
  {
   "cell_type": "code",
   "execution_count": 25,
   "metadata": {},
   "outputs": [
    {
     "name": "stdout",
     "output_type": "stream",
     "text": [
      "6\n",
      "Que nome grande\n"
     ]
    }
   ],
   "source": [
    "# Qual o tamanho?\n",
    "nome = input(\"Qual seu nome?\")\n",
    "tamanho = len(nome)\n",
    "print(tamanho)\n",
    "\n",
    "if tamanho >=6:\n",
    "    print(\"Que nome grande\")\n",
    "\n",
    "elif tamanho == 5:\n",
    "    print(\"Ta na media\")\n",
    "\n",
    "else:\n",
    "    print(\"Que nome pequeno\")"
   ]
  },
  {
   "cell_type": "code",
   "execution_count": 26,
   "metadata": {},
   "outputs": [
    {
     "name": "stdout",
     "output_type": "stream",
     "text": [
      "M\n",
      "V\n"
     ]
    }
   ],
   "source": [
    "meu_nome = \"Miguel Rogério de Oliveira Vazzi\" \n",
    "print(meu_nome [0])\n",
    "print(meu_nome [-5])\n"
   ]
  },
  {
   "cell_type": "code",
   "execution_count": 1,
   "metadata": {},
   "outputs": [
    {
     "name": "stdout",
     "output_type": "stream",
     "text": [
      "1103092716\n",
      "@aluno.santanadeparnaiba.sp.gov.br\n"
     ]
    }
   ],
   "source": [
    "email = \"1103092716@aluno.santanadeparnaiba.sp.gov.br\"\n",
    "print(email[:10])\n",
    "print(email[10:45])"
   ]
  },
  {
   "cell_type": "code",
   "execution_count": 2,
   "metadata": {},
   "outputs": [
    {
     "name": "stdout",
     "output_type": "stream",
     "text": [
      "kaio é muito gay\n",
      "KAIO É MUITO GAY\n"
     ]
    }
   ],
   "source": [
    "frase = \"KaIo É MUitO gAy\"\n",
    "print(frase.lower())\n",
    "print(frase.upper())"
   ]
  },
  {
   "cell_type": "code",
   "execution_count": 3,
   "metadata": {},
   "outputs": [
    {
     "name": "stdout",
     "output_type": "stream",
     "text": [
      "Eu odeio a escola!\n"
     ]
    }
   ],
   "source": [
    "mensagem = \"Eu amo a escola!\"\n",
    "print(mensagem.replace(\"amo\" , \"odeio\" ))"
   ]
  },
  {
   "cell_type": "code",
   "execution_count": 4,
   "metadata": {},
   "outputs": [
    {
     "name": "stdout",
     "output_type": "stream",
     "text": [
      "o Kaio é gay\n"
     ]
    }
   ],
   "source": [
    "frase = input(\"O Kaio é hetero\")\n",
    "print(frase.replace (\"hetero\" , \"gay\"))"
   ]
  },
  {
   "cell_type": "code",
   "execution_count": 5,
   "metadata": {},
   "outputs": [
    {
     "name": "stdout",
     "output_type": "stream",
     "text": [
      "['oprofessor', 'de', 'python', 'é', 'o', 'melhor']\n"
     ]
    }
   ],
   "source": [
    "ache_a_frase = \"oprofessor1de1python1é1o1melhor\"\n",
    "print(ache_a_frase.split(\"1\"))"
   ]
  },
  {
   "cell_type": "code",
   "execution_count": 6,
   "metadata": {},
   "outputs": [
    {
     "name": "stdout",
     "output_type": "stream",
     "text": [
      "Miguel\n"
     ]
    }
   ],
   "source": [
    "meu_nome = \"                               Miguel                                        \"\n",
    "print(meu_nome.strip())"
   ]
  },
  {
   "cell_type": "code",
   "execution_count": 3,
   "metadata": {},
   "outputs": [
    {
     "name": "stdout",
     "output_type": "stream",
     "text": [
      "miguel rogério de oliveira vazzi\n",
      "['miguel', 'rogério', 'de', 'oliveira', 'vazzi']\n",
      "miguel\n",
      "vazzi\n",
      "miguel.vazzi\n"
     ]
    }
   ],
   "source": [
    "nome_completo = input(\"Me diga seu nome completo\")\n",
    "nome_sem_espaço = nome_completo.strip()\n",
    "nome_minusculo = nome_sem_espaço.lower()\n",
    "print(nome_minusculo)\n",
    "quebra_nome = nome_minusculo.split(\" \")\n",
    "print(quebra_nome)\n",
    "primeiro_nome = quebra_nome[0]\n",
    "print(primeiro_nome)\n",
    "ultimo_nome = quebra_nome [-1]\n",
    "print(ultimo_nome)\n",
    "\n",
    "usuario = primeiro_nome + \".\" + ultimo_nome\n",
    "print(usuario)"
   ]
  },
  {
   "cell_type": "code",
   "execution_count": 4,
   "metadata": {},
   "outputs": [
    {
     "name": "stdout",
     "output_type": "stream",
     "text": [
      "14\n",
      "Senha Valida\n"
     ]
    }
   ],
   "source": [
    "senha = input(\"Digite sua senha\")\n",
    "tamanho = len(senha)\n",
    "print(tamanho)\n",
    "\n",
    "if tamanho >=8:\n",
    "    print(\"Senha Valida\")\n",
    "\n",
    "else:\n",
    "    print(\"Senha muito curta\")"
   ]
  },
  {
   "cell_type": "code",
   "execution_count": 1,
   "metadata": {},
   "outputs": [
    {
     "name": "stdout",
     "output_type": "stream",
     "text": [
      "tamo junto mano pode pa você\n"
     ]
    }
   ],
   "source": [
    "mensagem = input(\"Escreva as palavras abreviadas\")\n",
    "print(mensagem.replace(\"tmj\"  ,  \"tamo junto\").replace(\"mn\"  ,  \"mano\").replace(\"pdp\"  ,  \"pode pa\").replace(\"vc\"  ,  \"você\"))"
   ]
  },
  {
   "cell_type": "code",
   "execution_count": 2,
   "metadata": {},
   "outputs": [
    {
     "name": "stdout",
     "output_type": "stream",
     "text": [
      "Sua média é 5.0\n",
      "Você está aprovado\n"
     ]
    }
   ],
   "source": [
    "nota1 = float(input(\"Digite sua nota\"))\n",
    "nota2 = float(input(\"Digite outra nota\"))\n",
    "nota3 = float(input(\"Digite outra nota\"))\n",
    "\n",
    "media = (nota1 + nota2 + nota3)/3\n",
    "print(f\"Sua média é {media}\")\n",
    "\n",
    "if media >=5:\n",
    "    print(f\"Você está aprovado\")\n",
    "\n",
    "elif media ==4:\n",
    "    print(f\"Você está de recuperação\")\n",
    "\n",
    "else:\n",
    "    print(f\"Você foi reprovado\")\n"
   ]
  },
  {
   "cell_type": "markdown",
   "metadata": {},
   "source": [
    "### Revisão Prova"
   ]
  },
  {
   "cell_type": "code",
   "execution_count": 3,
   "metadata": {},
   "outputs": [
    {
     "name": "stdout",
     "output_type": "stream",
     "text": [
      "Agente Miguel, sua classificação é:Bom👍(nota:7.5)\n"
     ]
    }
   ],
   "source": [
    "agente  = input(\"Diga seu nome\")\n",
    "nota = float(input(\"Digite a sua nota \"))\n",
    "\n",
    "if nota >=9.0 and nota <=10.0:\n",
    "    classificacao = \"Excelente🏅\"\n",
    "    print(f\"Agente {agente}, sua classificação é: {classificacao}(nota:{nota})\")\n",
    "\n",
    "elif nota >=7.0 and nota <=8.9:\n",
    "    classificacao = \"Bom👍\"\n",
    "    print(f\"Agente {agente}, sua classificação é:{classificacao}(nota:{nota})\")\n",
    "\n",
    "elif nota >=5.0 and nota <=6.9:\n",
    "    classificacao = \"Regular⚠️\"\n",
    "    print(f\"Agente {agente}, sua classificação é:{classificacao}(nota:{nota})\")\n",
    "\n",
    "elif nota >=3.0 and nota <=4.9:\n",
    "    classificacao = \"Ruim🚫\"\n",
    "    print(f\"Agente {agente}, sua classificação é:{classificacao}(nota:{nota})\")\n",
    "\n",
    "elif nota >=0.0 and nota <=2.9:\n",
    "    classificacao = \"Crítico🚨\"\n",
    "    print(f\"Agente {agente}, sua classificação é:{classificacao}(nota:{nota})\")\n",
    "\n",
    "else:\n",
    "    print(\"Nota Invalida!❌❌❌\")"
   ]
  },
  {
   "cell_type": "markdown",
   "metadata": {},
   "source": [
    "### Monitoramento de Consumo de Combustível"
   ]
  },
  {
   "cell_type": "code",
   "execution_count": null,
   "metadata": {},
   "outputs": [
    {
     "name": "stdout",
     "output_type": "stream",
     "text": [
      "O uno com escada é Econômico!🚗\n"
     ]
    }
   ],
   "source": [
    "nome_carro = input(\"Qual o nome do seu carro?\")\n",
    "distancia_percorrida = float(input(\"Diga quantos km o carro percorreu\"))\n",
    "quantidade_combustivel = float(input(\"Quantos litros de combustivel o consumiu?\"))\n",
    "consumo_medio = distancia_percorrida/quantidade_combustivel\n",
    "\n",
    "\n",
    "if consumo_medio <8.0:\n",
    "    classificacao = \"Alto Consumo🚨\"\n",
    "    print(f\"O {nome_carro} teve {classificacao} com o consumo {consumo_medio}. Recomenda-se revisar o motor ou calibrar os pneus.\")\n",
    "\n",
    "elif consumo_medio ==8.0 and consumo_medio == 12.0:\n",
    "    classificacao = \"Consumo Moderado⚠️\"\n",
    "    print(f\"O {nome_carro} teve {classificacao}\")\n",
    "\n",
    "else:\n",
    "    classificacao = \"Econômico!🚗\"\n",
    "    print(f\"O {nome_carro} é {classificacao}\")"
   ]
  },
  {
   "cell_type": "code",
   "execution_count": null,
   "metadata": {},
   "outputs": [],
   "source": [
    "peso = float(input(\"Diga seu peso\"))\n",
    "altura = float(input(\"Diga sua altura\"))\n",
    "imc = peso / (altura ** 2)\n",
    "imc_arredondado = round(imc,2)\n",
    "print(f\"Seu imc é {imc_arredondado}\")\n",
    "\n",
    "if imc == 0 and imc <=18.5:\n",
    "    classificacao = \"Abaixo do peso💀\"\n",
    "    print(f\"Você está {classificacao}. Recomendo comer um pouco mais para ganhar massa.\")\n",
    "\n",
    "elif imc >=18.5 and imc <=24.9:\n",
    "    classificacao = \"Peso normal(saúdavel)👍\"\n",
    "    print(f\"Você está {classificacao}. Está em ótima forma.\")\n",
    "\n",
    "elif imc >=25.0 and imc <=29.9:\n",
    "    classificacao = \"Sobrepeso👎\"\n",
    "    print(f\"Você está {classificacao}. Recomendo fazer uma dieta.\")\n",
    "\n",
    "elif imc >=30.0 and imc <=34.9:\n",
    "    classificacao = \"Obesidade Grau I⚠️\"\n",
    "    print(f\"Você está {classificacao}. Recomendo fazer uma dieta e atividades físicas.\")\n",
    "\n",
    "elif imc >=35.0 and imc <=39.9:\n",
    "    classificacao = \"Obesidade Grau II⚠️\"\n",
    "    print(f\"Você está {classificacao}. Recomendo passar em um nutricionista e fazer atividades físicas.\")\n",
    "\n",
    "elif imc >=40.0:\n",
    "    classificacao = \"Obesidade Grau III🚨\"\n",
    "    print(f\"Você está {classificacao}. Recomendo consultar algum especialista e futuramente fazer uma cirugia.\")\n",
    "\n",
    "else:\n",
    "    print(\"Número Invalido❌\")\n"
   ]
  },
  {
   "cell_type": "code",
   "execution_count": 1,
   "metadata": {},
   "outputs": [],
   "source": [
    "import pyautogui as aut"
   ]
  },
  {
   "cell_type": "code",
   "execution_count": 20,
   "metadata": {},
   "outputs": [],
   "source": [
    "\n",
    "#Bloco de Notas\n",
    "aut.press(\"Win\")\n",
    "aut.sleep(1)\n",
    "aut.write(\"Bloco de notas\", interval= 0.2)\n",
    "aut.sleep(1)\n",
    "aut.press(\"Enter\")\n",
    "aut.sleep(1)\n",
    "aut.press(\"Enter\")\n",
    "aut.sleep(1)\n",
    "aut.write(\"Nikolas adora pipi\", interval= 0.1)\n",
    "aut.hotkey(\"Ctrl\", \"a\")\n",
    "aut.press(\"Delete\")\n",
    "aut.moveTo(1514,119)\n",
    "aut.sleep(0.5)\n",
    "aut.click()"
   ]
  },
  {
   "cell_type": "code",
   "execution_count": 39,
   "metadata": {},
   "outputs": [],
   "source": [
    "aut.mouseInfo()"
   ]
  },
  {
   "cell_type": "code",
   "execution_count": null,
   "metadata": {},
   "outputs": [],
   "source": [
    "#9 pontos\n",
    "1822,206\n",
    "\n",
    "#classroom\n",
    "1617,394\n",
    "\n",
    "#turma curso\n",
    "827,307\n",
    "\n",
    "# atividade\n",
    "1015,677\n",
    "\n",
    "#arquivo\n",
    "1462,263\n",
    "\n",
    "#download\n",
    "964,558\n",
    "\n",
    "#download arquivos\n",
    "544,544\n",
    "\n",
    "#arquivo instalado\n",
    "864,431\n",
    "\n",
    "#area de trabalho\n",
    "535,509\n",
    "\n",
    "#pasta codigos\n",
    "802,407\n"
   ]
  },
  {
   "cell_type": "code",
   "execution_count": 2,
   "metadata": {},
   "outputs": [],
   "source": [
    "aut.press(\"Win\")\n",
    "aut.sleep(1)\n",
    "aut.write(\"Chrome\", interval= 0.2)\n",
    "aut.sleep(1)\n",
    "aut.press(\"Enter\")\n",
    "aut.sleep(2)\n",
    "#9 pontos\n",
    "aut.moveTo(1838,150)\n",
    "aut.sleep(1)\n",
    "aut.click()\n",
    "aut.sleep(1)\n",
    "# classroom\n",
    "aut.moveTo(1634,354)\n",
    "aut.sleep(1)\n",
    "aut.click()\n",
    "aut.sleep(1)\n",
    "# turma curso\n",
    "aut.moveTo(838,256)\n",
    "aut.sleep(3)\n",
    "aut.click()\n",
    "aut.sleep(1)\n",
    "#atividade\n",
    "aut.moveTo(1191,616)\n",
    "aut.sleep(1)\n",
    "aut.click()\n",
    "# arquivo\n",
    "aut.moveTo(1462,263)\n",
    "aut.sleep(1)\n",
    "aut.click()\n",
    "#Move para o download\n",
    "aut.moveTo(964,558)\n",
    "aut.sleep(3)\n",
    "aut.click()\n",
    "aut.sleep(3)\n",
    "aut.press(\"Win\")\n",
    "aut.sleep(1)\n",
    "aut.write(\"Explorador de arquivos\", interval= 0.2)\n",
    "aut.sleep(0.5)\n",
    "aut.press(\"Enter\")\n",
    "### aqui mexe o mouse para a aba downloads\n",
    "aut.sleep(2)\n",
    "aut.moveTo(555,542)\n",
    "aut.sleep(2)\n",
    "aut.click()\n",
    "# arquivo instalado\n",
    "aut.moveTo(868,433)\n",
    "aut.sleep(1)\n",
    "aut.click()\n",
    "aut.hotkey(\"Ctrl\", \"c\")\n",
    "# area de trabalho arquivos\n",
    "aut.moveTo(535,509)\n",
    "aut.sleep(1)\n",
    "aut.click()\n",
    "# pasta codigos\n",
    "aut.moveTo(791,404)\n",
    "aut.sleep(1)\n",
    "aut.click()\n",
    "aut.press(\"Enter\")\n",
    "aut.sleep(1)\n",
    "aut.hotkey(\"Ctrl\", \"v\")\n"
   ]
  },
  {
   "cell_type": "code",
   "execution_count": null,
   "metadata": {},
   "outputs": [],
   "source": [
    "# arquivo\n",
    "aut.moveTo(1448,258)\n",
    "aut.sleep(1)\n",
    "aut.click()\n",
    "#Move para o download\n",
    "aut.moveTo(964,559)\n",
    "aut.sleep(3)\n",
    "aut.click()\n",
    "aut.sleep(3)\n",
    "aut.press(\"Win\")\n",
    "aut.sleep(1)\n",
    "aut.write(\"Explorador de arquivos\", interval= 0.1)\n",
    "aut.sleep(0.5)\n",
    "aut.press(\"Enter\")\n",
    "### aqui mexe o mouse para a aba downloads\n",
    "aut.sleep(2)\n",
    "aut.moveTo(527,538)\n",
    "aut.sleep(2)\n",
    "aut.click()\n",
    "# arquivo instalado\n",
    "aut.moveTo(827,433)\n",
    "aut.sleep(1)\n",
    "aut.click()\n",
    "aut.hotkey(\"Ctrl\", \"c\")\n",
    "aut.sleep(1)\n",
    "# area de trabalho\n",
    "aut.moveTo(535,509)\n",
    "aut.sleep(1)\n",
    "aut.click()\n",
    "aut.moveTo(791,404)\n",
    "aut.sleep(1)\n",
    "aut.click()\n",
    "aut.press(\"Enter\")\n",
    "aut.sleep(1)\n",
    "aut.hotkey(\"Ctrl\", \"v\")"
   ]
  },
  {
   "cell_type": "code",
   "execution_count": 58,
   "metadata": {},
   "outputs": [],
   "source": [
    "aut.mouseInfo()"
   ]
  },
  {
   "cell_type": "code",
   "execution_count": null,
   "metadata": {},
   "outputs": [],
   "source": [
    "#youtube\n",
    "284,316\n",
    "\n",
    "#barra de pesquisa youtube\n",
    "789,116\n",
    "\n",
    "#musica\n",
    "768,632\n",
    "\n",
    "#pular anuncio\n",
    "1321,772"
   ]
  },
  {
   "cell_type": "code",
   "execution_count": null,
   "metadata": {},
   "outputs": [],
   "source": [
    "aut.press(\"Win\")\n",
    "aut.sleep(1)\n",
    "aut.write(\"Chrome\", interval= 0.2)\n",
    "aut.sleep(1)\n",
    "aut.press(\"Enter\")\n",
    "aut.sleep(1)\n",
    "aut.write(\"Youtube \", interval= 0.2)\n",
    "aut.sleep(1)\n",
    "aut.press(\"Enter\")\n",
    "aut.sleep(2)\n",
    "#site\n",
    "aut.moveTo(284,316)\n",
    "aut.sleep(1)\n",
    "aut.click()\n",
    "aut.sleep(1)\n",
    "#barra de pesquisa youtube\n",
    "aut.moveTo(789,116)\n",
    "aut.sleep(3)\n",
    "aut.click()\n",
    "aut.write(\"Hungria\", interval= 0.2)\n",
    "aut.sleep(0.5)\n",
    "aut.press(\"Enter\")\n",
    "aut.sleep(1)\n",
    "#musica\n",
    "aut.moveTo(768,632)\n",
    "aut.sleep(1)\n",
    "aut.click()\n",
    "aut.sleep(2)\n",
    "\n",
    "\n",
    "\n",
    "\n"
   ]
  },
  {
   "cell_type": "code",
   "execution_count": 61,
   "metadata": {},
   "outputs": [],
   "source": [
    "aut.mouseInfo()"
   ]
  },
  {
   "cell_type": "code",
   "execution_count": null,
   "metadata": {},
   "outputs": [],
   "source": [
    "#pular anuncio\n",
    "aut.moveTo(1321,779)\n",
    "aut.sleep(15)\n",
    "aut.click()"
   ]
  },
  {
   "cell_type": "code",
   "execution_count": 63,
   "metadata": {},
   "outputs": [],
   "source": [
    "aut.moveTo(1793,1055)\n",
    "aut.sleep(0.5)\n",
    "aut.click()\n",
    "aut.sleep(0.5)\n",
    "aut.moveTo(1585,740)\n",
    "aut.sleep(0.5)\n",
    "aut.click()\n",
    "aut.sleep(0.5)\n",
    "aut.press(\"Win\")\n",
    "aut.sleep(0.5)\n",
    "aut.write(\"Chrome\", interval= 0.3)\n",
    "aut.sleep(0.5)\n",
    "aut.press(\"Enter\")\n",
    "aut.sleep(0.5)\n",
    "aut.write(\"Ei\")\n",
    "aut.sleep(0.5)\n",
    "aut.press(\"Enter\")\n",
    "aut.sleep(0.5)\n",
    "aut.press(\"Space\")\n",
    "aut.sleep(0.5)\n",
    "aut.press(\"Space\")\n",
    "aut.sleep(0.5)\n",
    "aut.press(\"Space\")\n",
    "aut.sleep(0.5)\n",
    "aut.press(\"Space\")\n",
    "aut.sleep(0.5)\n",
    "aut.press(\"Space\")\n",
    "aut.sleep(0.5)\n",
    "aut.press(\"Space\")\n",
    "aut.sleep(0.5)\n",
    "aut.press(\"Space\")\n",
    "aut.sleep(0.5)\n",
    "aut.press(\"Space\")\n",
    "aut.sleep(0.5)\n",
    "aut.press(\"Space\")\n",
    "aut.sleep(0.5)\n",
    "aut.press(\"Space\")\n",
    "aut.sleep(0.5)\n",
    "aut.press(\"Space\")\n",
    "aut.sleep(0.5)\n",
    "aut.press(\"Space\")\n",
    "aut.sleep(0.5)\n",
    "aut.press(\"Space\")\n",
    "aut.sleep(0.5)\n",
    "aut.press(\"Space\")\n",
    "aut.sleep(0.5)\n",
    "aut.press(\"Space\")\n",
    "aut.sleep(0.5)\n",
    "aut.press(\"Space\")\n",
    "aut.sleep(0.5)\n",
    "aut.press(\"Space\")\n",
    "aut.sleep(0.5)\n",
    "aut.press(\"Space\")\n",
    "aut.sleep(0.5)\n",
    "aut.press(\"Space\")\n",
    "aut.sleep(0.5)\n",
    "aut.press(\"Space\")\n",
    "aut.sleep(0.5)\n",
    "aut.press(\"Space\")\n",
    "aut.sleep(0.5)\n",
    "aut.press(\"Space\")\n",
    "aut.sleep(0.5)\n",
    "aut.press(\"Space\")\n",
    "aut.sleep(0.5)\n",
    "aut.press(\"Space\")\n",
    "aut.sleep(0.5)\n",
    "aut.press(\"Space\")\n",
    "aut.sleep(0.5)\n",
    "aut.press(\"Space\")\n",
    "aut.sleep(0.5)\n",
    "aut.press(\"Space\")\n",
    "aut.sleep(0.5)\n",
    "aut.press(\"Space\")\n",
    "aut.sleep(0.5)\n",
    "aut.press(\"Space\")\n",
    "aut.sleep(0.5)\n",
    "aut.press(\"Space\")\n",
    "aut.sleep(0.5)\n",
    "aut.press(\"Space\")\n",
    "aut.sleep(0.5)\n",
    "aut.press(\"Space\")\n",
    "aut.sleep(0.5)\n",
    "aut.press(\"Space\")\n",
    "aut.sleep(0.5)\n",
    "aut.press(\"Space\")\n",
    "aut.sleep(0.5)\n",
    "aut.press(\"Space\")\n",
    "aut.sleep(0.5)\n",
    "aut.press(\"Space\")\n",
    "aut.sleep(0.5)\n",
    "aut.press(\"Space\")\n",
    "aut.sleep(0.5)\n",
    "aut.press(\"Space\")\n",
    "aut.sleep(0.5)\n",
    "aut.press(\"Space\")\n",
    "aut.sleep(0.5)\n",
    "aut.press(\"Space\")\n",
    "aut.sleep(0.5)\n",
    "aut.press(\"Space\")\n",
    "aut.sleep(0.5)\n",
    "aut.press(\"Space\")\n",
    "aut.sleep(0.5)\n",
    "aut.press(\"Space\")\n",
    "aut.sleep(0.5)\n",
    "aut.press(\"Space\")\n",
    "aut.sleep(0.5)\n",
    "aut.press(\"Space\")\n",
    "aut.sleep(0.5)\n",
    "aut.press(\"Space\")\n",
    "aut.sleep(0.5)\n",
    "aut.press(\"Space\")\n",
    "aut.sleep(0.5)\n",
    "aut.press(\"Space\")\n",
    "aut.sleep(0.5)\n",
    "aut.press(\"Space\")\n",
    "aut.sleep(0.5)\n",
    "aut.press(\"Space\")\n",
    "aut.sleep(0.5)\n",
    "aut.press(\"Space\")\n",
    "aut.sleep(0.5)\n",
    "aut.press(\"Space\")\n",
    "aut.sleep(0.5)\n",
    "aut.press(\"Space\")\n",
    "aut.sleep(0.5)\n",
    "aut.press(\"Space\")\n",
    "aut.sleep(0.5)\n",
    "aut.press(\"Space\")\n",
    "aut.sleep(0.5)\n",
    "aut.press(\"Space\")\n",
    "aut.sleep(0.5)\n",
    "aut.press(\"Space\")\n"
   ]
  },
  {
   "cell_type": "code",
   "execution_count": null,
   "metadata": {},
   "outputs": [],
   "source": [
    "# confi\n",
    "1793,1055\n",
    "\n",
    "#wifi\n",
    "1585,740"
   ]
  },
  {
   "cell_type": "code",
   "execution_count": 58,
   "metadata": {},
   "outputs": [],
   "source": [
    "aut.mouseInfo()"
   ]
  },
  {
   "cell_type": "code",
   "execution_count": null,
   "metadata": {},
   "outputs": [],
   "source": [
    "# foto\n",
    "1186,369\n",
    "\n",
    "# foto melhor\n",
    "1587,391\n",
    "\n",
    "#salva foto\n",
    "1698,703\n",
    "\n",
    "#mudar nome\n",
    "421,398\n",
    "\n",
    "#salvar\n",
    "788,497\n",
    "\n",
    "# 9 pontos\n",
    "1823,152\n",
    "\n",
    "#gmail\n",
    "1694,237\n",
    "\n",
    "#escrever email\n",
    "149,187\n",
    "\n",
    "#para\n",
    "1443,477\n",
    "\n",
    "#anexar\n",
    "1426,996\n",
    "\n",
    "#download\n",
    "83,298\n",
    "\n",
    "#foto instalada\n",
    "416,185\n",
    "\n",
    "#foto pra enviar\n",
    "792,501\n"
   ]
  },
  {
   "cell_type": "code",
   "execution_count": 62,
   "metadata": {},
   "outputs": [],
   "source": [
    "aut.press(\"Win\")\n",
    "aut.sleep(1)\n",
    "aut.write(\"Chrome\", interval= 0.08)\n",
    "aut.press(\"Enter\")\n",
    "aut.sleep(0.5)\n",
    "aut.write(\"Cristiano Ronaldo 2017\", interval= 0.08)\n",
    "aut.press(\"Enter\")\n",
    "aut.sleep(1)\n",
    "# foto\n",
    "aut.moveTo(1186,369)\n",
    "aut.sleep(0.5)\n",
    "aut.click()\n",
    "aut.sleep(0.5)\n",
    "# foto melhor\n",
    "aut.moveTo(1587,391)\n",
    "aut.rightClick()\n",
    "aut.sleep(0.5)\n",
    "# salvar foto\n",
    "aut.moveTo(1698,703)\n",
    "aut.sleep(1)\n",
    "aut.click()\n",
    "aut.sleep(1.1)\n",
    "# muda nome\n",
    "aut.moveTo(421,398)\n",
    "aut.sleep(0.7)\n",
    "aut.press(\"Delete\")\n",
    "aut.sleep(0.5)\n",
    "aut.write(\"Cr7 no prime\", interval= 0.08)\n",
    "aut.sleep(0.5)\n",
    "aut.moveTo(788,497)\n",
    "aut.sleep(0.5)\n",
    "aut.click()\n",
    "# 9 pontos\n",
    "aut.sleep(0.5)\n",
    "aut.moveTo(1823,152)\n",
    "aut.sleep(0.5)\n",
    "aut.click()\n",
    "aut.sleep(0.5)\n",
    "# gmail\n",
    "aut.moveTo(1694,237)\n",
    "aut.sleep(0.5)\n",
    "aut.click()\n",
    "aut.sleep(3)\n",
    "# escrever\n",
    "aut.moveTo(149,187)\n",
    "aut.sleep(1)\n",
    "aut.click()\n",
    "aut.sleep(1)\n",
    "# para\n",
    "aut.moveTo(1443,477)\n",
    "aut.sleep(0.5)\n",
    "aut.click()\n",
    "aut.sleep(0.5)\n",
    "# email\n",
    "aut.write(\"1101358439@aluno.santanadeparnaiba.sp.gov.br\", interval= 0.08)\n",
    "aut.sleep(0.5)\n",
    "aut.press(\"Enter\")\n",
    "aut.sleep(0.5)\n",
    "# anexar\n",
    "aut.moveTo(1426,996)\n",
    "aut.sleep(0.5)\n",
    "aut.click()\n",
    "aut.sleep(0.5)\n",
    "# download\n",
    "aut.moveTo(83,298)\n",
    "aut.sleep(0.5)\n",
    "aut.click()\n",
    "aut.sleep(0.5)\n",
    "# foto instalada\n",
    "aut.moveTo(416,185)\n",
    "aut.sleep(0.5)\n",
    "aut.click()\n",
    "aut.sleep(0.5)\n",
    "# foto pra enviar\n",
    "aut.moveTo(792,501)\n",
    "aut.sleep(0.5)\n",
    "aut.click()\n",
    "aut.sleep(0.5)\n",
    "# escrever o email\n",
    "aut.write(\"Negativo, este que e o melhor prime dele\", interval= 0.08)\n",
    "aut.sleep(0.5)\n",
    "#enviar\n",
    "aut.moveTo(1299,995)\n",
    "aut.sleep(0.5)\n",
    "aut.click()\n",
    "\n",
    "\n",
    "\n",
    "\n"
   ]
  },
  {
   "cell_type": "code",
   "execution_count": 69,
   "metadata": {},
   "outputs": [],
   "source": [
    "aut.mouseInfo()"
   ]
  },
  {
   "cell_type": "code",
   "execution_count": null,
   "metadata": {},
   "outputs": [],
   "source": [
    "aut.press(\"Win\")\n",
    "aut.sleep(0.5)\n",
    "aut.write(\"Chrome\", interval= 0.08)\n",
    "aut.press(\"Enter\")\n",
    "aut.sleep(0.5)\n",
    "aut.write(\"esqueleto\", interval= 0.08)\n",
    "aut.press(\"Enter\")\n",
    "aut.sleep(0.5)\n",
    "aut.moveTo(326,195)\n",
    "aut.sleep(0.5)\n",
    "aut.click()\n",
    "aut.sleep(0.5)\n",
    "aut.moveTo(949,400)\n",
    "aut.sleep(0.5)\n",
    "aut.click()\n",
    "\n"
   ]
  },
  {
   "cell_type": "code",
   "execution_count": null,
   "metadata": {},
   "outputs": [],
   "source": []
  }
 ],
 "metadata": {
  "kernelspec": {
   "display_name": "Python 3",
   "language": "python",
   "name": "python3"
  },
  "language_info": {
   "codemirror_mode": {
    "name": "ipython",
    "version": 3
   },
   "file_extension": ".py",
   "mimetype": "text/x-python",
   "name": "python",
   "nbconvert_exporter": "python",
   "pygments_lexer": "ipython3",
   "version": "3.13.2"
  }
 },
 "nbformat": 4,
 "nbformat_minor": 2
}
