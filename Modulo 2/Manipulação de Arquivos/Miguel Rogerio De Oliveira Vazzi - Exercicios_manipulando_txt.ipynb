{
 "cells": [
  {
   "cell_type": "markdown",
   "id": "ec2b2ae4",
   "metadata": {},
   "source": [
    "### Exercício 1: Criando e escrevendo em um arquivo\n",
    "\n",
    "Crie um arquivo chamado meu_arquivo.txt e escreva nele a seguinte frase: \"Estou criando esse arquivo de texto em Python!\""
   ]
  },
  {
   "cell_type": "code",
   "execution_count": 8,
   "id": "cffe2a6d",
   "metadata": {},
   "outputs": [],
   "source": [
    "with open('meu_arquivo.txt', 'w') as f:\n",
    "    f.write(\"Estou criando esse arquivo de texto em Python!\\n\")\n"
   ]
  },
  {
   "cell_type": "markdown",
   "id": "4b3f7a89",
   "metadata": {},
   "source": [
    "### Exercício 2: Lendo o conteúdo do arquivo\n",
    "\n",
    "\n",
    "Agora leia o conteúdo do arquivo meu_arquivo.txt que você criou no exercício anterior e mostre-o na tela."
   ]
  },
  {
   "cell_type": "code",
   "execution_count": 9,
   "id": "e5edc612",
   "metadata": {},
   "outputs": [
    {
     "name": "stdout",
     "output_type": "stream",
     "text": [
      "Estou criando esse arquivo de texto em Python!\n",
      "\n"
     ]
    }
   ],
   "source": [
    "with open('meu_arquivo.txt', 'r') as f:\n",
    "    conteudo = f.read()\n",
    "    print(conteudo)"
   ]
  },
  {
   "cell_type": "markdown",
   "id": "8184fdba",
   "metadata": {},
   "source": [
    "### Exercício 3: Adicionando mais texto\n",
    "\n",
    "Adicione a seguinte frase em uma nova linha do mesmo arquivo: \"Agora estou aprendendo a manipular arquivos!\""
   ]
  },
  {
   "cell_type": "code",
   "execution_count": 10,
   "id": "723d1e8d",
   "metadata": {},
   "outputs": [],
   "source": [
    "with open('meu_arquivo.txt', 'a') as f:\n",
    "    f.write(\"Agora estou aprendendo a manipular arquivos!\\n\")"
   ]
  },
  {
   "cell_type": "markdown",
   "id": "82c4eb19",
   "metadata": {},
   "source": [
    "### Exercício 4: Contando linhas\n",
    "\n",
    "Crie um programa que conta quantas linhas tem o arquivo meu_arquivo.txt e mostra o resultado."
   ]
  },
  {
   "cell_type": "code",
   "execution_count": 16,
   "id": "fd757b5e",
   "metadata": {},
   "outputs": [
    {
     "name": "stdout",
     "output_type": "stream",
     "text": [
      "2\n"
     ]
    }
   ],
   "source": [
    "with open('meu_arquivo.txt', 'r') as f:\n",
    "    conteudo = f.readlines()\n",
    "    print(len(conteudo))"
   ]
  },
  {
   "cell_type": "markdown",
   "id": "6bc0b78f",
   "metadata": {},
   "source": [
    "### Exercício 5: Lista de compras\n",
    "\n",
    "Crie um arquivo chamado compras.txt e escreva nele, cada um em uma linha, os seguintes itens: \"Maçã\", \"Banana\", \"Leite\", \"Pão\"."
   ]
  },
  {
   "cell_type": "code",
   "execution_count": 42,
   "id": "97bb5660",
   "metadata": {},
   "outputs": [],
   "source": [
    "with open('compras.txt', 'w', encoding='utf-8') as f:\n",
    "    f.write(\"Maça\\n\")\n",
    "    f.write(\"Banana\\n\")\n",
    "    f.write(\"Leite\\n\")\n",
    "    f.write(\"Pão\\n\")\n"
   ]
  },
  {
   "cell_type": "markdown",
   "id": "71cf0898",
   "metadata": {},
   "source": [
    "### Exercício 6: Lendo linhas específicas\n",
    "\n",
    "\n",
    "Leia o arquivo compras.txt e mostre apenas o segundo item da lista (Banana)."
   ]
  },
  {
   "cell_type": "code",
   "execution_count": 43,
   "id": "6d705e94",
   "metadata": {},
   "outputs": [
    {
     "name": "stdout",
     "output_type": "stream",
     "text": [
      "Banana\n",
      "\n"
     ]
    }
   ],
   "source": [
    "with open('compras.txt', 'r', encoding= 'utf-8') as f:\n",
    "    frutas = f.readlines()\n",
    "    print(frutas[1])"
   ]
  },
  {
   "cell_type": "markdown",
   "id": "bc372146",
   "metadata": {},
   "source": [
    "### Exercício 7: Adicionando itens\n",
    "\n",
    "Peça ao usuário para digitar um novo item e adicione-o ao final da lista no arquivo compras.txt."
   ]
  },
  {
   "cell_type": "code",
   "execution_count": 44,
   "id": "a6e7617c",
   "metadata": {},
   "outputs": [],
   "source": [
    "nova_fruta = input(\"Digite uma fruta\")\n",
    "\n",
    "with open('compras.txt', 'a', encoding='utf-8') as f:\n",
    "    f.write(nova_fruta)"
   ]
  },
  {
   "cell_type": "markdown",
   "id": "b434b909",
   "metadata": {},
   "source": [
    "### Exercício 8: Copiando arquivos\n",
    "\n",
    "Crie um programa que copia todo o conteúdo de meu_arquivo.txt para um novo arquivo chamado copia.txt."
   ]
  },
  {
   "cell_type": "code",
   "execution_count": 29,
   "id": "3aab9832",
   "metadata": {},
   "outputs": [
    {
     "name": "stdout",
     "output_type": "stream",
     "text": [
      "Estou criando esse arquivo de texto em Python!\n",
      "Agora estou aprendendo a manipular arquivos!\n",
      "\n"
     ]
    }
   ],
   "source": [
    "with  open('meu_arquivo.txt', 'r', encoding='utf-8') as f:\n",
    "    copia = conteudo\n",
    "    print(copia)"
   ]
  },
  {
   "cell_type": "code",
   "execution_count": 34,
   "id": "e68f4d64",
   "metadata": {},
   "outputs": [
    {
     "name": "stdout",
     "output_type": "stream",
     "text": [
      "Estou criando esse arquivo de texto em Python!\n",
      "Agora estou aprendendo a manipular arquivos!\n",
      "\n"
     ]
    }
   ],
   "source": [
    "with open('copia.txt', 'w', encoding='utf-8') as f:\n",
    "    f.write(copia)\n",
    "    print(copia)"
   ]
  },
  {
   "cell_type": "markdown",
   "id": "b24e8386",
   "metadata": {},
   "source": [
    "### Exercício 9: Contando palavras\n",
    "\n",
    "Crie um programa que conta quantas palavras tem no arquivo meu_arquivo.txt (considere que as palavras são separadas por espaços)."
   ]
  },
  {
   "cell_type": "code",
   "execution_count": 35,
   "id": "896d7462",
   "metadata": {},
   "outputs": [
    {
     "name": "stdout",
     "output_type": "stream",
     "text": [
      "92\n"
     ]
    }
   ],
   "source": [
    "with open('meu_arquivo.txt', 'r', encoding='utf-8') as f:\n",
    "    conteudo = f.read()\n",
    "    print(len(conteudo))"
   ]
  },
  {
   "cell_type": "markdown",
   "id": "3bbe37c9",
   "metadata": {},
   "source": [
    "### Exercício 10: Juntando arquivos\n",
    "\n",
    "\n",
    "Crie um programa que lê o conteúdo de meu_arquivo.txt e compras.txt e cria um novo arquivo chamado juntado.txt com o conteúdo dos dois arquivos, um após o outro."
   ]
  },
  {
   "cell_type": "code",
   "execution_count": null,
   "id": "c932924e",
   "metadata": {},
   "outputs": [
    {
     "name": "stdout",
     "output_type": "stream",
     "text": [
      "Estou criando esse arquivo de texto em Python!\n",
      "Agora estou aprendendo a manipular arquivos!\n",
      "\n"
     ]
    }
   ],
   "source": [
    "with open('meu_arquivo.txt', 'r', encoding='utf-8') as f:\n",
    "    conteudo = f.read()\n",
    "    print(conteudo)"
   ]
  },
  {
   "cell_type": "code",
   "execution_count": 45,
   "id": "72c5938b",
   "metadata": {},
   "outputs": [
    {
     "name": "stdout",
     "output_type": "stream",
     "text": [
      "Maça\n",
      "Banana\n",
      "Leite\n",
      "Pão\n",
      "Abacaxi\n"
     ]
    }
   ],
   "source": [
    "with open('compras.txt', 'r', encoding='utf-8') as f:\n",
    "    frutas = f.read()\n",
    "    print(frutas)"
   ]
  },
  {
   "cell_type": "code",
   "execution_count": 46,
   "id": "8a64e086",
   "metadata": {},
   "outputs": [],
   "source": [
    "with open('juntado.txt', 'w', encoding='utf-8') as f:\n",
    "    f.write(conteudo)\n",
    "    f.write(frutas)"
   ]
  },
  {
   "cell_type": "markdown",
   "id": "9587d7dc",
   "metadata": {},
   "source": [
    "### Pyautogui"
   ]
  },
  {
   "cell_type": "code",
   "execution_count": 51,
   "id": "3648303f",
   "metadata": {},
   "outputs": [],
   "source": [
    "import pyautogui as aut"
   ]
  },
  {
   "cell_type": "code",
   "execution_count": 100,
   "id": "01a3c39f",
   "metadata": {},
   "outputs": [],
   "source": [
    "aut.mouseInfo()"
   ]
  },
  {
   "cell_type": "code",
   "execution_count": null,
   "id": "10aef5ba",
   "metadata": {},
   "outputs": [],
   "source": [
    "#area de trabalho\n",
    "868,544\n",
    "\n",
    "#espaço limpo\n",
    "964,600\n",
    "\n",
    "#novo\n",
    "1052,759\n",
    "\n",
    "#nova pasta\n",
    "1383,404\n",
    "\n",
    "#pasta nova\n",
    "1045,470\n",
    "\n",
    "#pasta códigos\n",
    "1044,440\n",
    "\n",
    "#meu_arquivo.txt\n",
    "1084,579\n",
    "\n",
    "#compras.txt\n",
    "1070,464\n",
    "\n",
    "#juntado.txt\n",
    "1044,554\n",
    "\n"
   ]
  },
  {
   "cell_type": "code",
   "execution_count": 114,
   "id": "3fc5599f",
   "metadata": {},
   "outputs": [],
   "source": [
    "aut.press(\"Win\")\n",
    "aut.write(\"Explorador de arquivos\", interval= 0.08)\n",
    "aut.sleep(0.5)\n",
    "aut.press(\"Enter\")\n",
    "aut.sleep(1)\n",
    "# area de trabalho\n",
    "aut.moveTo(868,544)\n",
    "aut.sleep(0.5)\n",
    "aut.click()\n",
    "aut.sleep(0.5)\n",
    "# espaço limpo\n",
    "aut.moveTo(964,600)\n",
    "aut.sleep(0.5)\n",
    "aut.hotkey(\"Ctrl\", \"Shift\", \"n\")\n",
    "aut.write(\"Pasta de Arquivos\", interval= 0.08)\n",
    "aut.press(\"Enter\")"
   ]
  },
  {
   "cell_type": "code",
   "execution_count": 115,
   "id": "903f7599",
   "metadata": {},
   "outputs": [],
   "source": [
    "aut.press(\"Win\")\n",
    "aut.write(\"Explorador de arquivos\", interval= 0.08)\n",
    "aut.sleep(0.5)\n",
    "aut.press(\"Enter\")\n",
    "aut.sleep(1)\n",
    "# area de trabalho\n",
    "aut.moveTo(868,544)\n",
    "aut.sleep(0.5)\n",
    "aut.click()\n",
    "aut.sleep(0.5)\n",
    "# pasta códigos\n",
    "aut.moveTo(1044,440)\n",
    "aut.sleep(0.5)\n",
    "aut.click()\n",
    "aut.press(\"Enter\")\n",
    "aut.sleep(0.5)\n",
    "# meu_arquivos.txt\n",
    "aut.moveTo(1084,579)\n",
    "aut.sleep(0.5)\n",
    "aut.click()\n",
    "aut.sleep(0.5)\n",
    "aut.hotkey(\"Ctrl\", \"c\")\n",
    "aut.sleep(0.5)\n",
    "# area de trabalho\n",
    "aut.moveTo(868,544)\n",
    "aut.sleep(0.5)\n",
    "aut.click()\n",
    "aut.sleep(0.5)\n",
    "# pasta nova\n",
    "aut.moveTo(1045,470)\n",
    "aut.sleep(0.5)\n",
    "aut.click()\n",
    "aut.press(\"Enter\")\n",
    "aut.hotkey(\"Ctrl\", \"v\")\n"
   ]
  }
 ],
 "metadata": {
  "kernelspec": {
   "display_name": "Python 3",
   "language": "python",
   "name": "python3"
  },
  "language_info": {
   "codemirror_mode": {
    "name": "ipython",
    "version": 3
   },
   "file_extension": ".py",
   "mimetype": "text/x-python",
   "name": "python",
   "nbconvert_exporter": "python",
   "pygments_lexer": "ipython3",
   "version": "3.13.2"
  }
 },
 "nbformat": 4,
 "nbformat_minor": 5
}
