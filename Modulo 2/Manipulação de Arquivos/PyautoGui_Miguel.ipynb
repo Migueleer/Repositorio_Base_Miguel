{
 "cells": [
  {
   "cell_type": "code",
   "execution_count": 1,
   "id": "3faafe28",
   "metadata": {},
   "outputs": [],
   "source": [
    "import pyautogui as aut"
   ]
  },
  {
   "cell_type": "code",
   "execution_count": null,
   "id": "ffdc1da5",
   "metadata": {},
   "outputs": [],
   "source": [
    "aut.press(\"Win\")\n",
    "aut.write(\"Bloco de notas\", interval= 0.3)\n",
    "aut.press(\"Enter\")\n",
    "aut.write(\"\")"
   ]
  }
 ],
 "metadata": {
  "kernelspec": {
   "display_name": "Python 3",
   "language": "python",
   "name": "python3"
  },
  "language_info": {
   "codemirror_mode": {
    "name": "ipython",
    "version": 3
   },
   "file_extension": ".py",
   "mimetype": "text/x-python",
   "name": "python",
   "nbconvert_exporter": "python",
   "pygments_lexer": "ipython3",
   "version": "3.13.2"
  }
 },
 "nbformat": 4,
 "nbformat_minor": 5
}
